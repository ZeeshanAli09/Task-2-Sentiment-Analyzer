{
 "cells": [
  {
   "cell_type": "code",
   "execution_count": 12,
   "id": "0e87fc7f-efb4-4459-beb9-3fd413166118",
   "metadata": {},
   "outputs": [
    {
     "name": "stderr",
     "output_type": "stream",
     "text": [
      "[nltk_data] Downloading package movie_reviews to C:\\Users\\HELLO\n",
      "[nltk_data]     LARKANA\\AppData\\Roaming\\nltk_data...\n",
      "[nltk_data]   Package movie_reviews is already up-to-date!\n"
     ]
    },
    {
     "name": "stdout",
     "output_type": "stream",
     "text": [
      "Accuracy: 0.7775\n",
      "\n",
      " Classification Report:\n",
      "               precision    recall  f1-score   support\n",
      "\n",
      "         neg       0.75      0.81      0.78       194\n",
      "         pos       0.81      0.75      0.78       206\n",
      "\n",
      "    accuracy                           0.78       400\n",
      "   macro avg       0.78      0.78      0.78       400\n",
      "weighted avg       0.78      0.78      0.78       400\n",
      "\n",
      "\n",
      " Sample Predictions:\n",
      "\n",
      "Review 1:\n",
      "capsule : where are you tonight , leni rienfenstal ? \n",
      "starship troopers is an expensive , hateful and unenjoyable piece of violent pornography -- and  ...\n",
      "Predicted Sentiment: neg\n",
      "\n",
      "Review 2:\n",
      "it's amazing how a comedian can have the some of the funniest stand-up around but completely fall flat in the movies . \n",
      "take adam sandler . \n",
      "on the ba ...\n",
      "Predicted Sentiment: neg\n",
      "\n",
      "Review 3:\n",
      "when i ponder childhood memories past , one of the things that always springs immediately to mind is watching the \" inspector gadget \" tv show with my ...\n",
      "Predicted Sentiment: neg\n"
     ]
    },
    {
     "data": {
      "image/png": "[encoded data removed]",
      "text/plain": [
       "<Figure size 640x480 with 2 Axes>"
      ]
     },
     "metadata": {},
     "output_type": "display_data"
    }
   ],
   "source": [
    "# Import libraries\n",
    "import nltk\n",
    "import random\n",
    "import numpy as np\n",
    "from nltk.corpus import movie_reviews\n",
    "from sklearn.model_selection import train_test_split\n",
    "from sklearn.feature_extraction.text import TfidfVectorizer\n",
    "from sklearn.naive_bayes import MultinomialNB\n",
    "from sklearn.metrics import accuracy_score, classification_report, confusion_matrix\n",
    "import seaborn as sns\n",
    "import matplotlib.pyplot as plt\n",
    "import pickle\n",
    "\n",
    "# now we need to download movie reviews dataset\n",
    "nltk.download('movie_reviews')\n",
    "\n",
    "# load data and labels from movie_reviews\n",
    "documents = []\n",
    "for category in movie_reviews.categories():\n",
    "    for fileid in movie_reviews.fileids(category):\n",
    "        documents.append((movie_reviews.raw(fileid), category))\n",
    "\n",
    "# need to Shuffle the data randomly\n",
    "random.shuffle(documents)\n",
    "\n",
    "# now Separate texts and labels\n",
    "texts = [text for text, label in documents]\n",
    "labels = [label for text, label in documents]\n",
    "\n",
    "# Split into train and test sets (e.g 80% train, 20% test)\n",
    "X_train, X_test, y_train, y_test = train_test_split(texts, labels, test_size=0.2, random_state=42)\n",
    "\n",
    "# now Converting text into numerical features using TF-IDF\n",
    "vectorizer = TfidfVectorizer(stop_words='english')\n",
    "X_train_vect = vectorizer.fit_transform(X_train)\n",
    "X_test_vect = vectorizer.transform(X_test)\n",
    "\n",
    "# Train a Naive Bayes classifier\n",
    "model = MultinomialNB()\n",
    "model.fit(X_train_vect, y_train)\n",
    "\n",
    "# Predict on test set\n",
    "y_pred = model.predict(X_test_vect)\n",
    "\n",
    "# Show accuracy and detailed report\n",
    "print(\"Accuracy:\", accuracy_score(y_test, y_pred))\n",
    "print(\"\\n Classification Report:\\n\", classification_report(y_test, y_pred))\n",
    "\n",
    "#Predict some sample reviews\n",
    "print(\"\\n Sample Predictions:\")\n",
    "for i in range(3):\n",
    "    print(f\"\\nReview {i+1}:\")\n",
    "    print(X_test[i][:150], \"...\")\n",
    "    print(\"Predicted Sentiment:\", model.predict(vectorizer.transform([X_test[i]]))[0])\n",
    "\n",
    "# Confusion Matrix\n",
    "cm = confusion_matrix(y_test, y_pred, labels=[\"pos\", \"neg\"])\n",
    "sns.heatmap(cm, annot=True, fmt='d', xticklabels=[\"Positive\", \"Negative\"], yticklabels=[\"Positive\", \"Negative\"])\n",
    "plt.xlabel(\"Predicted\")\n",
    "plt.ylabel(\"Actual\")\n",
    "plt.title(\"Confusion Matrix\")\n",
    "plt.show()\n",
    "\n",
    "#Save model and vectorizer\n",
    "with open(\"sentiment_model.pkl\", \"wb\") as file:\n",
    "    pickle.dump(model, file)\n",
    "\n",
    "with open(\"vectorizer.pkl\", \"wb\") as file:\n",
    "    pickle.dump(vectorizer, file)\n"
   ]
  },
  {
   "cell_type": "code",
   "execution_count": null,
   "id": "973ae068-8535-463c-9c57-798715931c27",
   "metadata": {},
   "outputs": [],
   "source": []
  }
 ],
 "metadata": {
  "kernelspec": {
   "display_name": "Python 3 (ipykernel)",
   "language": "python",
   "name": "python3"
  },
  "language_info": {
   "codemirror_mode": {
    "name": "ipython",
    "version": 3
   },
   "file_extension": ".py",
   "mimetype": "text/x-python",
   "name": "python",
   "nbconvert_exporter": "python",
   "pygments_lexer": "ipython3",
   "version": "3.12.4"
  }
 },
 "nbformat": 4,
 "nbformat_minor": 5
}
